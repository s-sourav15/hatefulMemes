{
 "cells": [
  {
   "cell_type": "code",
   "execution_count": 2,
   "metadata": {},
   "outputs": [],
   "source": [
    "# Create smaller dataset for Dogs vs. Cats\n",
    "import os, shutil\n",
    "import numpy as np\n",
    "import pandas as pd\n",
    "\n",
    "original_dataset_dir = '/home/jovyan/data/img'\n",
    "\n",
    "train_dataset_dir = '/home/jovyan/data/img/train'\n",
    "dev_dataset_dir = '/home/jovyan/data/img/dev'\n",
    "test_dataset_dir = '/home/jovyan/data/img/test'\n",
    "\n",
    "df_train = pd.read_json('/home/jovyan/data/train.jsonl', lines=True)\n",
    "df_dev = pd.read_json('/home/jovyan/data/dev.jsonl', lines=True)\n",
    "df_test = pd.read_json('/home/jovyan/data/test.jsonl', lines=True)\n",
    "\n",
    "\n",
    "\n",
    "base_dir = '/home/jovyan/data/img'\n",
    "\n",
    "if not os.path.exists(base_dir):\n",
    "    os.mkdir(base_dir)\n",
    "\n",
    "# Create directories\n",
    "train_dir = os.path.join(base_dir,'train')\n",
    "if not os.path.exists(train_dir):\n",
    "    os.mkdir(train_dir)\n",
    "dev_dir = os.path.join(base_dir,'dev')\n",
    "if not os.path.exists(dev_dir):\n",
    "    os.mkdir(dev_dir)\n",
    "test_dir = os.path.join(base_dir,'test')\n",
    "if not os.path.exists(test_dir):\n",
    "    os.mkdir(test_dir)\n",
    "\n",
    "train_hateful_dir = os.path.join(train_dir,'hateful')\n",
    "if not os.path.exists(train_hateful_dir):\n",
    "    os.mkdir(train_hateful_dir)\n",
    "\n",
    "train_nothateful_dir = os.path.join(train_dir,'nothateful')\n",
    "if not os.path.exists(train_nothateful_dir):\n",
    "    os.mkdir(train_nothateful_dir)\n",
    "\n",
    "dev_hateful_dir = os.path.join(dev_dir,'hateful')\n",
    "if not os.path.exists(dev_hateful_dir):\n",
    "    os.mkdir(dev_hateful_dir)\n",
    "\n",
    "dev_nothateful_dir = os.path.join(dev_dir, 'nothateful')\n",
    "if not os.path.exists(dev_nothateful_dir):\n",
    "    os.mkdir(dev_nothateful_dir)\n"
   ]
  },
  {
   "cell_type": "code",
   "execution_count": 5,
   "metadata": {},
   "outputs": [
    {
     "name": "stdout",
     "output_type": "stream",
     "text": [
      "total training hateful images: 3050\n",
      "total training nonhateful images: 5451\n",
      "total dev hateful images: 250\n",
      "total dev nonhateful images: 251\n"
     ]
    }
   ],
   "source": [
    "#for index, row in df_train.iterrows(): \n",
    "#    src = os.path.join(original_dataset_dir, row.img[4:])\n",
    "#    dst = os.path.join(train_dataset_dir, 'hateful' if row.label == 1 else 'nothateful', row.img[4:])\n",
    "#    shutil.copyfile(src, dst)\n",
    "#    print(src, dst)\n",
    "    \n",
    "                                                \n",
    "# Sanity checks\n",
    "print('total training hateful images:', len(os.listdir(train_dataset_dir + \"/hateful\")))\n",
    "print('total training nonhateful images:', len(os.listdir(train_dataset_dir + \"/nothateful\")))\n",
    "print('total dev hateful images:', len(os.listdir(dev_dataset_dir + \"/hateful\")))\n",
    "print('total dev nonhateful images:', len(os.listdir(dev_dataset_dir + \"/nothateful\")))\n"
   ]
  },
  {
   "cell_type": "code",
   "execution_count": null,
   "metadata": {},
   "outputs": [],
   "source": []
  }
 ],
 "metadata": {
  "kernelspec": {
   "display_name": "Python 3",
   "language": "python",
   "name": "python3"
  },
  "language_info": {
   "codemirror_mode": {
    "name": "ipython",
    "version": 3
   },
   "file_extension": ".py",
   "mimetype": "text/x-python",
   "name": "python",
   "nbconvert_exporter": "python",
   "pygments_lexer": "ipython3",
   "version": "3.8.4"
  }
 },
 "nbformat": 4,
 "nbformat_minor": 4
}
