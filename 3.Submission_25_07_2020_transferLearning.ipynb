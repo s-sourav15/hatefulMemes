{
 "cells": [
  {
   "cell_type": "code",
   "execution_count": 93,
   "metadata": {},
   "outputs": [],
   "source": [
    "# Image only classification Basic"
   ]
  },
  {
   "cell_type": "code",
   "execution_count": 148,
   "metadata": {},
   "outputs": [],
   "source": [
    "import numpy as np\n",
    "import pandas as pd\n",
    "import os\n",
    "from time import time\n",
    "import matplotlib.pyplot as plt\n",
    "import seaborn as sns\n",
    "\n",
    "from sklearn.datasets import load_files       \n",
    "from keras.utils import np_utils\n",
    "from glob import glob\n",
    "from PIL import Image\n",
    "\n",
    "from keras.preprocessing.image import ImageDataGenerator, img_to_array, load_img \n",
    "from sklearn.model_selection import train_test_split\n",
    "from tensorflow.keras.applications.vgg16 import VGG16"
   ]
  },
  {
   "cell_type": "code",
   "execution_count": 149,
   "metadata": {},
   "outputs": [],
   "source": [
    "conv_base = VGG16(weights='imagenet', include_top=False)\n",
    "\n",
    "def read_image(file_path):\n",
    "    image = load_img(file_path, target_size=(50, 50))\n",
    "    image = img_to_array(image) \n",
    "    image = np.expand_dims(image, axis=0)\n",
    "    image /= 255.  \n",
    "    val = conv_base.predict(image)\n",
    "    print(val.shape)\n",
    "    return val"
   ]
  },
  {
   "cell_type": "code",
   "execution_count": 150,
   "metadata": {},
   "outputs": [
    {
     "data": {
      "text/html": [
       "<div>\n",
       "<style scoped>\n",
       "    .dataframe tbody tr th:only-of-type {\n",
       "        vertical-align: middle;\n",
       "    }\n",
       "\n",
       "    .dataframe tbody tr th {\n",
       "        vertical-align: top;\n",
       "    }\n",
       "\n",
       "    .dataframe thead th {\n",
       "        text-align: right;\n",
       "    }\n",
       "</style>\n",
       "<table border=\"1\" class=\"dataframe\">\n",
       "  <thead>\n",
       "    <tr style=\"text-align: right;\">\n",
       "      <th></th>\n",
       "      <th>id</th>\n",
       "      <th>img</th>\n",
       "      <th>label</th>\n",
       "      <th>text</th>\n",
       "    </tr>\n",
       "  </thead>\n",
       "  <tbody>\n",
       "    <tr>\n",
       "      <th>10</th>\n",
       "      <td>79351</td>\n",
       "      <td>img/79351.png</td>\n",
       "      <td>1</td>\n",
       "      <td>jew mad? get fuhrerious!</td>\n",
       "    </tr>\n",
       "    <tr>\n",
       "      <th>12</th>\n",
       "      <td>25489</td>\n",
       "      <td>img/25489.png</td>\n",
       "      <td>1</td>\n",
       "      <td>brother... a day without a blast is a day wasted</td>\n",
       "    </tr>\n",
       "  </tbody>\n",
       "</table>\n",
       "</div>"
      ],
      "text/plain": [
       "       id            img  label  \\\n",
       "10  79351  img/79351.png      1   \n",
       "12  25489  img/25489.png      1   \n",
       "\n",
       "                                                text  \n",
       "10                          jew mad? get fuhrerious!  \n",
       "12  brother... a day without a blast is a day wasted  "
      ]
     },
     "execution_count": 150,
     "metadata": {},
     "output_type": "execute_result"
    }
   ],
   "source": [
    "df = pd.read_json('/home/jovyan/data/train.jsonl', lines=True)\n",
    "df_test = pd.read_json('/home/jovyan/data/dev.jsonl', lines=True)\n",
    "#df_test = pd.read_json('/home/jovyan/data/test.jsonl', lines=True)\n",
    "df[df.label == 1].head(2)"
   ]
  },
  {
   "cell_type": "code",
   "execution_count": 133,
   "metadata": {},
   "outputs": [],
   "source": [
    "#df[\"image_data\"] = df.apply(lambda x: read_image('/home/jovyan/data/' + x['img']), axis=1)\n",
    "#df.to_pickle(\"df.pkl\")\n",
    "\n",
    "#df_test[\"image_data\"] = df_test.apply(lambda x: read_image('/home/jovyan/data/' + x['img']), axis=1)\n",
    "#df_test.to_pickle(\"df_test.pkl\")"
   ]
  },
  {
   "cell_type": "code",
   "execution_count": 134,
   "metadata": {},
   "outputs": [],
   "source": [
    "#df.head()"
   ]
  },
  {
   "cell_type": "code",
   "execution_count": 151,
   "metadata": {},
   "outputs": [],
   "source": [
    "df = pd.read_pickle('df_224_224.pkl')"
   ]
  },
  {
   "cell_type": "code",
   "execution_count": 153,
   "metadata": {},
   "outputs": [],
   "source": [
    "x =  np.vstack(df[\"image_data\"])\n",
    "y = df[\"label\"]\n",
    "#del df"
   ]
  },
  {
   "cell_type": "code",
   "execution_count": 154,
   "metadata": {},
   "outputs": [],
   "source": [
    "#train_tensors, train_targets, valid_tensors, valid_targets = train_test_split(x, y, test_size=0.1, random_state=123)\n",
    "train_features = x\n",
    "train_labels = y"
   ]
  },
  {
   "cell_type": "code",
   "execution_count": 155,
   "metadata": {},
   "outputs": [
    {
     "data": {
      "text/plain": [
       "(8500, 7, 7, 512)"
      ]
     },
     "execution_count": 155,
     "metadata": {},
     "output_type": "execute_result"
    }
   ],
   "source": [
    "train_features.shape"
   ]
  },
  {
   "cell_type": "code",
   "execution_count": 157,
   "metadata": {},
   "outputs": [],
   "source": [
    "df_test = pd.read_pickle('df_test_224_224.pkl')\n",
    "validation_features =  np.vstack(df_test[\"image_data\"])\n",
    "validation_labels = df_test[\"label\"]\n",
    "del df_test"
   ]
  },
  {
   "cell_type": "code",
   "execution_count": 158,
   "metadata": {},
   "outputs": [
    {
     "name": "stdout",
     "output_type": "stream",
     "text": [
      "Model: \"sequential_17\"\n",
      "_________________________________________________________________\n",
      "Layer (type)                 Output Shape              Param #   \n",
      "=================================================================\n",
      "flatten_11 (Flatten)         (None, 25088)             0         \n",
      "_________________________________________________________________\n",
      "dense_28 (Dense)             (None, 256)               6422784   \n",
      "_________________________________________________________________\n",
      "dropout_11 (Dropout)         (None, 256)               0         \n",
      "_________________________________________________________________\n",
      "dense_29 (Dense)             (None, 1)                 257       \n",
      "=================================================================\n",
      "Total params: 6,423,041\n",
      "Trainable params: 6,423,041\n",
      "Non-trainable params: 0\n",
      "_________________________________________________________________\n",
      "Epoch 1/10\n",
      "300/300 [==============================] - 7s 24ms/step - loss: 0.7654 - acc: 0.6377 - val_loss: 0.6662 - val_acc: 0.5876\n",
      "Epoch 2/10\n",
      "300/300 [==============================] - 6s 19ms/step - loss: 0.6342 - acc: 0.6503 - val_loss: 0.6697 - val_acc: 0.5876\n",
      "Epoch 3/10\n",
      "300/300 [==============================] - 6s 20ms/step - loss: 0.6154 - acc: 0.6578 - val_loss: 0.6631 - val_acc: 0.5835\n",
      "Epoch 4/10\n",
      "300/300 [==============================] - 5s 18ms/step - loss: 0.6101 - acc: 0.6553 - val_loss: 0.7083 - val_acc: 0.5935\n",
      "Epoch 5/10\n",
      "300/300 [==============================] - 6s 19ms/step - loss: 0.5953 - acc: 0.6570 - val_loss: 0.6748 - val_acc: 0.5871\n",
      "Epoch 6/10\n",
      "300/300 [==============================] - 5s 18ms/step - loss: 0.5995 - acc: 0.6565 - val_loss: 0.7047 - val_acc: 0.5882\n",
      "Epoch 7/10\n",
      "300/300 [==============================] - 5s 18ms/step - loss: 0.5785 - acc: 0.6567 - val_loss: 0.6638 - val_acc: 0.5876\n",
      "Epoch 8/10\n",
      "300/300 [==============================] - 5s 18ms/step - loss: 0.5799 - acc: 0.6483 - val_loss: 0.6663 - val_acc: 0.5876\n",
      "Epoch 9/10\n",
      "300/300 [==============================] - 6s 18ms/step - loss: 0.5679 - acc: 0.6560 - val_loss: 0.6982 - val_acc: 0.5871\n",
      "Epoch 10/10\n",
      "300/300 [==============================] - 6s 18ms/step - loss: 0.5459 - acc: 0.6570 - val_loss: 0.6998 - val_acc: 0.5865\n"
     ]
    }
   ],
   "source": [
    "# Define model\n",
    "from keras import models\n",
    "from keras import layers\n",
    "from keras import optimizers\n",
    "\n",
    "model1 = models.Sequential()\n",
    "model1.add(layers.Flatten(input_shape=(7,7,512)))\n",
    "model1.add(layers.Dense(256, activation='relu', input_dim=(7*7*512)))\n",
    "model1.add(layers.Dropout(0.5))\n",
    "model1.add(layers.Dense(1, activation='sigmoid'))\n",
    "model1.summary()\n",
    "\n",
    "# Compile model\n",
    "model1.compile(optimizer=optimizers.Adam(),\n",
    "              loss='binary_crossentropy',\n",
    "              metrics=['acc'])\n",
    "              \n",
    "# Train model\n",
    "history1 = model1.fit(train_features, train_labels,\n",
    "                    epochs=10, \n",
    "                    batch_size=20, \n",
    "                    validation_split=.2, steps_per_epoch=300)"
   ]
  },
  {
   "cell_type": "code",
   "execution_count": 159,
   "metadata": {},
   "outputs": [
    {
     "name": "stdout",
     "output_type": "stream",
     "text": [
      "Model: \"sequential_18\"\n",
      "_________________________________________________________________\n",
      "Layer (type)                 Output Shape              Param #   \n",
      "=================================================================\n",
      "global_average_pooling2d_6 ( (None, 512)               0         \n",
      "_________________________________________________________________\n",
      "dense_30 (Dense)             (None, 1)                 513       \n",
      "=================================================================\n",
      "Total params: 513\n",
      "Trainable params: 513\n",
      "Non-trainable params: 0\n",
      "_________________________________________________________________\n",
      "Epoch 1/10\n",
      "300/300 [==============================] - 2s 5ms/step - loss: 0.6414 - acc: 0.6522 - val_loss: 0.6724 - val_acc: 0.5894\n",
      "Epoch 2/10\n",
      "300/300 [==============================] - 1s 3ms/step - loss: 0.6351 - acc: 0.6565 - val_loss: 0.6784 - val_acc: 0.5888\n",
      "Epoch 3/10\n",
      "300/300 [==============================] - 1s 3ms/step - loss: 0.6313 - acc: 0.6562 - val_loss: 0.6916 - val_acc: 0.5882\n",
      "Epoch 4/10\n",
      "300/300 [==============================] - 1s 3ms/step - loss: 0.6254 - acc: 0.6577 - val_loss: 0.6803 - val_acc: 0.5894\n",
      "Epoch 5/10\n",
      "300/300 [==============================] - 1s 3ms/step - loss: 0.6278 - acc: 0.6538 - val_loss: 0.6827 - val_acc: 0.5900\n",
      "Epoch 6/10\n",
      "300/300 [==============================] - 1s 3ms/step - loss: 0.6190 - acc: 0.6648 - val_loss: 0.6889 - val_acc: 0.5900\n",
      "Epoch 7/10\n",
      "300/300 [==============================] - 1s 3ms/step - loss: 0.6249 - acc: 0.6568 - val_loss: 0.6654 - val_acc: 0.6006\n",
      "Epoch 8/10\n",
      "300/300 [==============================] - 1s 3ms/step - loss: 0.6170 - acc: 0.6687 - val_loss: 0.6705 - val_acc: 0.5947\n",
      "Epoch 9/10\n",
      "300/300 [==============================] - 1s 3ms/step - loss: 0.6175 - acc: 0.6637 - val_loss: 0.6627 - val_acc: 0.6188\n",
      "Epoch 10/10\n",
      "300/300 [==============================] - 1s 3ms/step - loss: 0.6129 - acc: 0.6713 - val_loss: 0.6854 - val_acc: 0.5959\n"
     ]
    }
   ],
   "source": [
    "from keras import models\n",
    "from keras import layers\n",
    "from keras import optimizers\n",
    "\n",
    "model2 = models.Sequential()\n",
    "model2.add(layers.GlobalAveragePooling2D(input_shape=(7,7,512)))\n",
    "model2.add(layers.Dense(1, activation='sigmoid'))\n",
    "model2.summary()\n",
    "\n",
    "# Compile model\n",
    "model2.compile(optimizer=optimizers.Adam(),\n",
    "              loss='binary_crossentropy',\n",
    "              metrics=['acc'])\n",
    "              \n",
    "# Train model\n",
    "history2 = model2.fit(train_features, train_labels,\n",
    "                    epochs=10,\n",
    "                    batch_size=20, \n",
    "                    validation_split=.2, steps_per_epoch=300)"
   ]
  },
  {
   "cell_type": "code",
   "execution_count": 160,
   "metadata": {},
   "outputs": [
    {
     "data": {
      "text/plain": [
       "[<matplotlib.lines.Line2D at 0x7f9dcc6e9b80>]"
      ]
     },
     "execution_count": 160,
     "metadata": {},
     "output_type": "execute_result"
    },
    {
     "data": {
      "image/png": "[encoded data removed]",
      "text/plain": [
       "<Figure size 432x288 with 1 Axes>"
      ]
     },
     "metadata": {
      "needs_background": "light"
     },
     "output_type": "display_data"
    }
   ],
   "source": [
    "plt.plot(history1.history['acc'])\n",
    "plt.plot(history1.history['loss'])"
   ]
  },
  {
   "cell_type": "code",
   "execution_count": 161,
   "metadata": {},
   "outputs": [
    {
     "data": {
      "text/plain": [
       "[<matplotlib.lines.Line2D at 0x7f9dcc723790>]"
      ]
     },
     "execution_count": 161,
     "metadata": {},
     "output_type": "execute_result"
    },
    {
     "data": {
      "image/png": "[encoded data removed]",
      "text/plain": [
       "<Figure size 432x288 with 1 Axes>"
      ]
     },
     "metadata": {
      "needs_background": "light"
     },
     "output_type": "display_data"
    }
   ],
   "source": [
    "plt.plot(history2.history['acc'])\n",
    "plt.plot(history2.history['loss'])"
   ]
  },
  {
   "cell_type": "code",
   "execution_count": 164,
   "metadata": {},
   "outputs": [
    {
     "name": "stdout",
     "output_type": "stream",
     "text": [
      "0.51632\n"
     ]
    }
   ],
   "source": [
    "from sklearn.metrics import roc_curve\n",
    "from sklearn.metrics import auc\n",
    "\n",
    "# get index of predicted dog breed for each image in test set\n",
    "validation_pred = model2.predict(validation_features).ravel()\n",
    "fpr_dev_keras, tpr_dev_keras, thresholds_dev_keras = roc_curve(validation_labels, validation_pred)\n",
    "auc_dev_keras = auc(fpr_dev_keras, tpr_dev_keras)\n",
    "print(auc_dev_keras)"
   ]
  },
  {
   "cell_type": "code",
   "execution_count": 165,
   "metadata": {},
   "outputs": [
    {
     "data": {
      "image/png": "[encoded data removed]",
      "text/plain": [
       "<Figure size 432x288 with 1 Axes>"
      ]
     },
     "metadata": {
      "needs_background": "light"
     },
     "output_type": "display_data"
    }
   ],
   "source": [
    "plt.figure(1)\n",
    "plt.plot([0, 1], [0, 1], 'k--')\n",
    "plt.plot(fpr_dev_keras, tpr_dev_keras, label='Keras (area = {:.3f})'.format(auc_dev_keras))\n",
    "plt.xlabel('False positive rate')\n",
    "plt.ylabel('True positive rate')\n",
    "plt.title('ROC curve')\n",
    "plt.legend(loc='best')\n",
    "plt.show()"
   ]
  },
  {
   "cell_type": "code",
   "execution_count": 166,
   "metadata": {},
   "outputs": [
    {
     "data": {
      "text/plain": [
       "(1, 7, 7, 512)"
      ]
     },
     "execution_count": 166,
     "metadata": {},
     "output_type": "execute_result"
    }
   ],
   "source": [
    "df[\"image_data\"][1].shape"
   ]
  },
  {
   "cell_type": "code",
   "execution_count": null,
   "metadata": {},
   "outputs": [],
   "source": []
  }
 ],
 "metadata": {
  "kernelspec": {
   "display_name": "Python 3",
   "language": "python",
   "name": "python3"
  },
  "language_info": {
   "codemirror_mode": {
    "name": "ipython",
    "version": 3
   },
   "file_extension": ".py",
   "mimetype": "text/x-python",
   "name": "python",
   "nbconvert_exporter": "python",
   "pygments_lexer": "ipython3",
   "version": "3.8.4"
  }
 },
 "nbformat": 4,
 "nbformat_minor": 4
}
